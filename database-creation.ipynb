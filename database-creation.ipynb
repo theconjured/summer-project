{
 "cells": [
  {
   "cell_type": "code",
   "execution_count": 1,
   "metadata": {},
   "outputs": [],
   "source": [
    "import sqlite3"
   ]
  },
  {
   "cell_type": "code",
   "execution_count": 2,
   "metadata": {},
   "outputs": [],
   "source": [
    "table_names = ['counts_train', 'counts_val', 'counts_test', 'bbx_train', 'bbx_val']\n",
    "\n",
    "counts_table = ''' (\n",
    "    id integer not null primary key autoincrement,\n",
    "    image_path text,\n",
    "    category integer,\n",
    "    box_count integer)'''\n",
    "\n",
    "bbx_table = ''' (\n",
    "    id integer not null primary key autoincrement,\n",
    "    counts_id integer,\n",
    "    image_path text,\n",
    "    category integer,\n",
    "    x integer,\n",
    "    y integer,\n",
    "    width integer,\n",
    "    height integer,\n",
    "    blur integer,\n",
    "    expression integer,\n",
    "    illumination integer,\n",
    "    invalid integer,\n",
    "    occlusion integer,\n",
    "    pose integer)'''\n",
    "\n",
    "counts_train = f'counts_train {counts_table}'\n",
    "counts_val = f'counts_val {counts_table}'\n",
    "counts_test = f'counts_test {counts_table}'\n",
    "bbx_train = f'bbx_train {bbx_table}'\n",
    "bbx_val = f'bbx_val {bbx_table}'\n",
    "\n",
    "db_tables = [ counts_train, counts_val, counts_test, bbx_train, bbx_val ]"
   ]
  },
  {
   "cell_type": "code",
   "execution_count": 3,
   "metadata": {},
   "outputs": [],
   "source": [
    "def create_database(name = 'widerface.db'):\n",
    "    con = sqlite3.connect(name)\n",
    "    if not con:\n",
    "        raise RuntimeError(f'Unable to load the database: \"{name}\"')\n",
    "    cur = con.cursor()\n",
    "    for tb in db_tables:\n",
    "        cur.execute(f'create table if not exists {tb}')\n",
    "    con.close()\n",
    "    \n",
    "def drop_tables(name = 'widerface.db'):\n",
    "    con = sqlite3.connect(name)\n",
    "    cur = con.cursor()\n",
    "    for tb in table_names:\n",
    "        cur.execute(f'drop table if exists {tb}')\n",
    "    con.close()"
   ]
  },
  {
   "cell_type": "code",
   "execution_count": 4,
   "metadata": {},
   "outputs": [],
   "source": [
    "drop_tables()\n",
    "create_database()"
   ]
  },
  {
   "cell_type": "code",
   "execution_count": 5,
   "metadata": {},
   "outputs": [],
   "source": [
    "def add_bbx_data(bbx_table, counts_table, file_path, db_name = 'widerface.db'):\n",
    "\n",
    "    con = sqlite3.connect(db_name)\n",
    "    \n",
    "    def insert_bbx_entry(values):\n",
    "        try:\n",
    "            cur = con.cursor()\n",
    "            cur.execute(f'''insert into {bbx_table} (counts_id, image_path, category, x, y, width, \n",
    "                height, blur, expression, illumination, invalid, occlusion, pose)\n",
    "                values(?,?,?,?,?,?,?,?,?,?,?,?,?)''', values)\n",
    "        except sqlite3.IntegrityError as detail:\n",
    "            print(detail)\n",
    "            pass\n",
    "        \n",
    "    def insert_counts_entry(values):\n",
    "        try:\n",
    "            cur = con.cursor()\n",
    "            cur.execute(f'insert into {counts_table} (image_path, category, box_count) values(?,?,?)', values)\n",
    "        except sqlite3.IntegrityError as detail:\n",
    "            print(detail)\n",
    "            pass\n",
    "        id = cur.lastrowid\n",
    "        return id\n",
    "\n",
    "\n",
    "    with open(file_path ,'r') as fp:\n",
    "        last_image = ''\n",
    "        get_count = False\n",
    "        face_count = 0\n",
    "        counts_id = 0\n",
    "        category = 0\n",
    "        for i, line in enumerate(fp):\n",
    "            if line.endswith('.jpg\\n'):\n",
    "                last_image = line[0:-1]\n",
    "                category = int(last_image.split('--')[0])\n",
    "                get_count = True\n",
    "            elif get_count:\n",
    "                image_counts = (last_image, category, int(line))\n",
    "                counts_id = insert_counts_entry(image_counts)\n",
    "                get_count = False\n",
    "            else:\n",
    "                data_str = line.rstrip().split(' ')\n",
    "                data = [int(x) for x in data_str ]\n",
    "                bbx_entries = tuple([counts_id, last_image, category] + data)\n",
    "                insert_bbx_entry(bbx_entries)\n",
    "                \n",
    "        con.commit()\n",
    "\n",
    "    con.close()\n",
    "\n",
    "def add_test_images(file_path, db_name = 'widerface.db'):\n",
    "    \n",
    "    con = sqlite3.connect(db_name)\n",
    "    \n",
    "    def insert_entry(values):\n",
    "        try:\n",
    "            cur = con.cursor()\n",
    "            cur.execute(f'insert into counts_test (image_path, category, box_count) values(?,?,?)', values)\n",
    "        except sqlite3.IntegrityError as detail:\n",
    "            print(detail)\n",
    "            pass\n",
    "        id = cur.lastrowid\n",
    "        return id\n",
    "    \n",
    "    with open(file_path ,'r') as fp:\n",
    "        for i, line in enumerate(fp):\n",
    "            values = (line[0:-1], -1, 0)\n",
    "            insert_entry(values)\n",
    "        con.commit()\n",
    "            \n",
    "    con.close()"
   ]
  },
  {
   "cell_type": "markdown",
   "metadata": {},
   "source": [
    "## Run this cell to populate the training set data. Only run once."
   ]
  },
  {
   "cell_type": "code",
   "execution_count": 6,
   "metadata": {},
   "outputs": [],
   "source": [
    "add_bbx_data('bbx_train','counts_train','./data/wider_face_split/wider_face_train_bbx_gt.txt')"
   ]
  },
  {
   "cell_type": "markdown",
   "metadata": {},
   "source": [
    "## Run this cell to populate the validation set data. Only run once."
   ]
  },
  {
   "cell_type": "code",
   "execution_count": 7,
   "metadata": {},
   "outputs": [],
   "source": [
    "add_bbx_data('bbx_val','counts_val','./data/wider_face_split/wider_face_val_bbx_gt.txt')"
   ]
  },
  {
   "cell_type": "markdown",
   "metadata": {},
   "source": [
    "## Run this cell to populate the test file paths. Only run once."
   ]
  },
  {
   "cell_type": "code",
   "execution_count": 8,
   "metadata": {},
   "outputs": [],
   "source": [
    "add_test_images('./data/wider_face_split/wider_face_test_filelist.txt')"
   ]
  },
  {
   "cell_type": "code",
   "execution_count": null,
   "metadata": {},
   "outputs": [],
   "source": []
  }
 ],
 "metadata": {
  "kernelspec": {
   "display_name": "Python 3",
   "language": "python",
   "name": "python3"
  },
  "language_info": {
   "codemirror_mode": {
    "name": "ipython",
    "version": 3
   },
   "file_extension": ".py",
   "mimetype": "text/x-python",
   "name": "python",
   "nbconvert_exporter": "python",
   "pygments_lexer": "ipython3",
   "version": "3.7.4"
  }
 },
 "nbformat": 4,
 "nbformat_minor": 2
}

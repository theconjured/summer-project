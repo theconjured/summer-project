{
 "cells": [
  {
   "cell_type": "markdown",
   "metadata": {},
   "source": [
    "## In order to evaluate the performance of the model, there needs to be a definitive way to measure accuracy.\n",
    "\n",
    "One possible evaluation metric involves using an \"intersection over union\" measurement. It takes the overlapping areas of bounding boxes and divides the total area of both bounding boxes. This produces an accuracy score that can be used to measure how close of a match the bounding boxes area. A score of 1.0 reflects a perfect match, where scores closer to 0 are likely incorrect matches.\n",
    "\n",
    "However, it is also necessary to consider the case that the number of bounding boxes guessed is inaccurate. There are two ways this can happen. In the situation that the number of guessed bounding boxes is lower, the guesses should be matched to the closest real box to determine an error while the missing pairs are automatically considered errors (false negative). Should the number of guesses be higher, each existing box should determine its closest match that is not more proximal to any other box. The left over guesses are considered in the error count as false positives.\n",
    "\n"
   ]
  },
  {
   "cell_type": "code",
   "execution_count": 2,
   "metadata": {},
   "outputs": [],
   "source": [
    "# Consider box1, box2 as [x, y, width, height]\n",
    "def iou(box1, box2):\n",
    "    xa = max(box1[0], box2[0])\n",
    "    ya = max(box1[1], box2[1])\n",
    "    xb = min(box1[0] + box1[2], box2[0] + box2[2])\n",
    "    yb = min(box1[1] + box1[3], box2[1] + box2[3])\n",
    "    \n",
    "    i_area = (xb - xa) * (yb - ya)\n",
    "    \n",
    "    a_area = box1[2] * box1[3]\n",
    "    b_area = box2[2] * box2[3]\n",
    "    \n",
    "    return i_area / float(a_area + b_area - i_area)\n",
    "\n",
    "def box_distance(box1, box2):\n",
    "    return sqrt( (box1[0] - box2[0])^2 + (box1[1] - box2[1])^2 )"
   ]
  },
  {
   "cell_type": "code",
   "execution_count": 3,
   "metadata": {},
   "outputs": [],
   "source": [
    "\n",
    "def evaluate_performance(ytrue, yhat):\n",
    "    for real_boxes, guessed_boxes in ytrue, yhat:\n",
    "        print(real_boxes, guessed_boxes)"
   ]
  },
  {
   "cell_type": "code",
   "execution_count": null,
   "metadata": {},
   "outputs": [],
   "source": []
  }
 ],
 "metadata": {
  "kernelspec": {
   "display_name": "Python 3",
   "language": "python",
   "name": "python3"
  },
  "language_info": {
   "codemirror_mode": {
    "name": "ipython",
    "version": 3
   },
   "file_extension": ".py",
   "mimetype": "text/x-python",
   "name": "python",
   "nbconvert_exporter": "python",
   "pygments_lexer": "ipython3",
   "version": "3.7.4"
  }
 },
 "nbformat": 4,
 "nbformat_minor": 2
}

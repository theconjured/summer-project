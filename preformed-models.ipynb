{
 "cells": [
  {
   "cell_type": "markdown",
   "metadata": {},
   "source": [
    "## This project makes use of a number of packages which can be downloaded through the *pip* interface.\n",
    "\n",
    "The following packages are required:\n",
    " * chainer\n",
    " * chainercv\n",
    " * opencv-python\n",
    " * pandas\n",
    " * sqlite3\n",
    " * numpy"
   ]
  },
  {
   "cell_type": "code",
   "execution_count": 1,
   "metadata": {},
   "outputs": [],
   "source": [
    "import matplotlib.pyplot as plt\n",
    "import chainer\n",
    "from chainercv.utils import read_image\n",
    "import pandas as pd\n",
    "import numpy as np\n",
    "import sqlite3\n",
    "import warnings \n",
    "import logging\n",
    "import cv2\n",
    "import timeit"
   ]
  },
  {
   "cell_type": "code",
   "execution_count": 2,
   "metadata": {},
   "outputs": [],
   "source": [
    "class WIDERFACE:\n",
    "    db = 'widerface.db'\n",
    "    con = sqlite3.connect(db)\n",
    "    bounding_boxes = {\n",
    "     'val': pd.read_sql_query('select * from bbx_val', con),\n",
    "     'train': pd.read_sql_query('select * from bbx_train', con)\n",
    "    }\n",
    "    file_info = {\n",
    "     'val': pd.read_sql_query('select * from counts_val', con),\n",
    "     'train': pd.read_sql_query('select * from counts_train', con),\n",
    "     'test': pd.read_sql_query('select * from counts_test', con)\n",
    "    }\n",
    "    paths = {\n",
    "        'val' : './data/val/images',\n",
    "        'train' : './data/train/images',\n",
    "        'test' : './data/test/images'\n",
    "        \n",
    "    }\n",
    "    \n",
    "    con.close()\n",
    "    "
   ]
  },
  {
   "cell_type": "code",
   "execution_count": 3,
   "metadata": {},
   "outputs": [
    {
     "data": {
      "text/html": [
       "<div>\n",
       "<style scoped>\n",
       "    .dataframe tbody tr th:only-of-type {\n",
       "        vertical-align: middle;\n",
       "    }\n",
       "\n",
       "    .dataframe tbody tr th {\n",
       "        vertical-align: top;\n",
       "    }\n",
       "\n",
       "    .dataframe thead th {\n",
       "        text-align: right;\n",
       "    }\n",
       "</style>\n",
       "<table border=\"1\" class=\"dataframe\">\n",
       "  <thead>\n",
       "    <tr style=\"text-align: right;\">\n",
       "      <th></th>\n",
       "      <th>id</th>\n",
       "      <th>image_path</th>\n",
       "      <th>category</th>\n",
       "      <th>box_count</th>\n",
       "    </tr>\n",
       "  </thead>\n",
       "  <tbody>\n",
       "    <tr>\n",
       "      <td>0</td>\n",
       "      <td>1</td>\n",
       "      <td>0--Parade/0_Parade_marchingband_1_849.jpg</td>\n",
       "      <td>0</td>\n",
       "      <td>1</td>\n",
       "    </tr>\n",
       "    <tr>\n",
       "      <td>1</td>\n",
       "      <td>2</td>\n",
       "      <td>0--Parade/0_Parade_Parade_0_904.jpg</td>\n",
       "      <td>0</td>\n",
       "      <td>1</td>\n",
       "    </tr>\n",
       "    <tr>\n",
       "      <td>2</td>\n",
       "      <td>3</td>\n",
       "      <td>0--Parade/0_Parade_marchingband_1_799.jpg</td>\n",
       "      <td>0</td>\n",
       "      <td>21</td>\n",
       "    </tr>\n",
       "    <tr>\n",
       "      <td>3</td>\n",
       "      <td>4</td>\n",
       "      <td>0--Parade/0_Parade_marchingband_1_117.jpg</td>\n",
       "      <td>0</td>\n",
       "      <td>9</td>\n",
       "    </tr>\n",
       "    <tr>\n",
       "      <td>4</td>\n",
       "      <td>5</td>\n",
       "      <td>0--Parade/0_Parade_marchingband_1_778.jpg</td>\n",
       "      <td>0</td>\n",
       "      <td>35</td>\n",
       "    </tr>\n",
       "  </tbody>\n",
       "</table>\n",
       "</div>"
      ],
      "text/plain": [
       "   id                                 image_path  category  box_count\n",
       "0   1  0--Parade/0_Parade_marchingband_1_849.jpg         0          1\n",
       "1   2        0--Parade/0_Parade_Parade_0_904.jpg         0          1\n",
       "2   3  0--Parade/0_Parade_marchingband_1_799.jpg         0         21\n",
       "3   4  0--Parade/0_Parade_marchingband_1_117.jpg         0          9\n",
       "4   5  0--Parade/0_Parade_marchingband_1_778.jpg         0         35"
      ]
     },
     "execution_count": 3,
     "metadata": {},
     "output_type": "execute_result"
    }
   ],
   "source": [
    "WIDERFACE.file_info['train'].head()"
   ]
  },
  {
   "cell_type": "code",
   "execution_count": 4,
   "metadata": {},
   "outputs": [
    {
     "data": {
      "text/plain": [
       "<matplotlib.axes._subplots.AxesSubplot at 0x278c9ef5a08>"
      ]
     },
     "execution_count": 4,
     "metadata": {},
     "output_type": "execute_result"
    },
    {
     "data": {
      "image/png": "[encoded data removed]",
      "text/plain": [
       "<Figure size 432x288 with 1 Axes>"
      ]
     },
     "metadata": {
      "needs_background": "light"
     },
     "output_type": "display_data"
    }
   ],
   "source": [
    "WIDERFACE.file_info['train'].category.hist(bins = 61)"
   ]
  },
  {
   "cell_type": "code",
   "execution_count": 5,
   "metadata": {},
   "outputs": [
    {
     "data": {
      "text/plain": [
       "<matplotlib.axes._subplots.AxesSubplot at 0x278ca35d708>"
      ]
     },
     "execution_count": 5,
     "metadata": {},
     "output_type": "execute_result"
    },
    {
     "data": {
      "image/png": "[encoded data removed]",
      "text/plain": [
       "<Figure size 432x288 with 1 Axes>"
      ]
     },
     "metadata": {
      "needs_background": "light"
     },
     "output_type": "display_data"
    }
   ],
   "source": [
    "WIDERFACE.bounding_boxes['train'].category.hist(bins = 61)"
   ]
  },
  {
   "cell_type": "markdown",
   "metadata": {},
   "source": [
    "### Initiate logger for monitoring file processing."
   ]
  },
  {
   "cell_type": "code",
   "execution_count": 6,
   "metadata": {},
   "outputs": [],
   "source": [
    "logger = logging.getLogger('logger')\n",
    "logger.setLevel(logging.DEBUG)\n",
    "handler = logging.FileHandler(filename='filelog.log')\n",
    "handler.setLevel(logging.DEBUG)\n",
    "logger.addHandler(handler)"
   ]
  },
  {
   "cell_type": "code",
   "execution_count": 7,
   "metadata": {},
   "outputs": [],
   "source": [
    "from chainer import training\n",
    "from chainer import cuda\n",
    "from chainer.training import extensions\n",
    "from chainer.training.triggers import ManualScheduleTrigger\n",
    "from chainer.datasets import TransformDataset\n",
    "from chainercv.extensions import DetectionVOCEvaluator\n",
    "from chainercv.links import FasterRCNNVGG16\n",
    "from chainercv.links.model.faster_rcnn import FasterRCNNTrainChain\n",
    "from chainercv import transforms\n",
    "from chainercv.utils import read_image\n",
    "from chainercv.visualizations import vis_bbox"
   ]
  },
  {
   "cell_type": "markdown",
   "metadata": {},
   "source": [
    "### In order to use ChainerCV, bounding boxes must follow the format (y_min, x_min, y_max, x_max)."
   ]
  },
  {
   "cell_type": "code",
   "execution_count": 8,
   "metadata": {},
   "outputs": [],
   "source": [
    "WIDERFACE.bounding_boxes['train']['y_min'] = WIDERFACE.bounding_boxes['train'].y\n",
    "WIDERFACE.bounding_boxes['train']['y_max'] = WIDERFACE.bounding_boxes['train'].y_min + WIDERFACE.bounding_boxes['train'].height\n",
    "WIDERFACE.bounding_boxes['train']['x_min'] = WIDERFACE.bounding_boxes['train'].x\n",
    "WIDERFACE.bounding_boxes['train']['x_max'] = WIDERFACE.bounding_boxes['train'].x_min + WIDERFACE.bounding_boxes['train'].width"
   ]
  },
  {
   "cell_type": "code",
   "execution_count": 9,
   "metadata": {},
   "outputs": [],
   "source": [
    "# training_data = []\n",
    "# train_path = WIDERFACE.paths['train']\n",
    "# counts_ids = WIDERFACE.bounding_boxes['train']['counts_id']\n",
    "\n",
    "# for f in WIDERFACE.file_info['train'].itertuples():\n",
    "#     training_data.append((f'{train_path}/{f.image_path}', f.box_count,\n",
    "#                          [ [r.y_min, r.x_min, r.y_max, r.x_max] for r in \n",
    "#                           WIDERFACE.bounding_boxes['train'][counts_ids == f.id].itertuples() ]))"
   ]
  },
  {
   "cell_type": "code",
   "execution_count": 30,
   "metadata": {},
   "outputs": [],
   "source": [
    "trials_table = '''trials (\n",
    "    id integer not null primary key autoincrement,\n",
    "    model_name text,\n",
    "    notes text)'''\n",
    "\n",
    "counts_table = ''' trials_counts (\n",
    "    id integer not null primary key autoincrement,\n",
    "    trial_id integer,\n",
    "    image_path text,\n",
    "    box_count integer,\n",
    "    foreign key (trial_id) references trials(id))'''\n",
    "\n",
    "trials_bbx = '''trials_bbx (\n",
    "    id integer not null primary key autoincrement,\n",
    "    trial_id integer,\n",
    "    counts_id integer,\n",
    "    image_path text,\n",
    "    x integer,\n",
    "    y integer,\n",
    "    width integer,\n",
    "    height integer,\n",
    "    foreign key (trial_id) references trials(id))'''\n",
    "\n",
    "results_tables = [trials_table, counts_table, trials_bbx]\n",
    "results_table_names = ['trials', 'trials_counts', 'trials_bbx']\n",
    "\n",
    "def create_results_db(name = 'results.db'):\n",
    "    \n",
    "    con = sqlite3.connect(name)\n",
    "    if not con:\n",
    "        raise RuntimeError(f'Unable to load the database: \"{name}\"')\n",
    "    cur = con.cursor()\n",
    "    for tb in results_tables:\n",
    "        cur.execute(f'create table if not exists {tb}')\n",
    "    con.close()\n",
    "    \n",
    "def drop_results_tables(name = 'results.db'):\n",
    "    con = sqlite3.connect(name)\n",
    "    cur = con.cursor()\n",
    "    for tb in results_table_names:\n",
    "        cur.execute(f'drop table if exists {tb}')\n",
    "    con.close()"
   ]
  },
  {
   "cell_type": "code",
   "execution_count": 31,
   "metadata": {},
   "outputs": [],
   "source": [
    "drop_results_tables()\n",
    "create_results_db()"
   ]
  },
  {
   "cell_type": "code",
   "execution_count": 32,
   "metadata": {},
   "outputs": [],
   "source": [
    "def save_results(model_name, notes, counts, bbox):\n",
    "    con = sqlite3.connect('results.db')\n",
    "    cur = con.cursor()\n",
    "    cur.execute('insert into trials(model_name, notes) values(?,?)', (model_name, notes))\n",
    "    trial_id = cur.lastrowid\n",
    "    for (c, b) in zip(counts, bbox):\n",
    "        cur.execute('insert into trials_counts(trial_id, image_path, box_count) values(?,?,?)',\n",
    "                   (trial_id, c[0], c[1]))\n",
    "        counts_id = cur.lastrowid\n",
    "        for box in b:\n",
    "            cur.execute('insert into trials_bbx(trial_id, counts_id, image_path, x, y, width, height) values(?,?,?,?,?,?,?)',\n",
    "                       (trial_id, counts_id, c[0], int(box[0]), int(box[1]), int(box[2]), int(box[3])))\n",
    "            \n",
    "    con.commit()\n",
    "    con.close()\n",
    "    "
   ]
  },
  {
   "cell_type": "markdown",
   "metadata": {},
   "source": [
    "## This function can be used to generate bounding boxes using Cascade Classifiers through OvenCV.\n",
    "\n",
    "It takes in a *list* of file paths, a file path to a descriptor of the model to use, a scale factor to apply to the images (1.05 magnifies the image by 5%), and *minimum neighbors* argument which signifies how robust each detection must be.\n",
    "\n",
    "It outputs two lists. The first contains the image paths and the number of boxes as a pair. The second is a list of the bounding box coordinates found for each image."
   ]
  },
  {
   "cell_type": "code",
   "execution_count": 37,
   "metadata": {},
   "outputs": [],
   "source": [
    "def run_opencv_cascade(file_paths, model, scale_factor = 1.1, min_neighbors = 3, use_grayscale = False, use_gpu = True):\n",
    "    classifier = cv2.CascadeClassifier(model)\n",
    "    counts = []\n",
    "    bboxes = []\n",
    "    start_time = timeit.default_timer()\n",
    "    for i in file_paths:\n",
    "        img = cv2.imread(i)\n",
    "        \n",
    "        if use_grayscale:\n",
    "            img = cv2.cvtColor(img, cv2.COLOR_BGR2GRAY)\n",
    "        \n",
    "        # Converting a Mat object to a UMat object enables GPU processing.\n",
    "        if use_gpu:\n",
    "            img = cv2.UMat(img)\n",
    "\n",
    "        bboxes_found = classifier.detectMultiScale(img, scale_factor, min_neighbors)\n",
    "        counts.append((i, len(bboxes_found)))\n",
    "        bboxes.append(bboxes_found)\n",
    "    end_time = timeit.default_timer()\n",
    "    test_runtime = end_time - start_time\n",
    "    print(f'Found bounding boxes for {len(counts)} images after {test_runtime} seconds.')\n",
    "    return counts, bboxes"
   ]
  },
  {
   "cell_type": "code",
   "execution_count": 34,
   "metadata": {},
   "outputs": [],
   "source": [
    "haar_path = './data/opencv_models/haarcascade_frontalface_default.xml'\n",
    "# Jupyter does not like this syntax but I swear it's legal\n",
    "train_paths = [ f'{WIDERFACE.paths[\"train\"]}/{f}' for f in WIDERFACE.file_info['train']['image_path'] ]\n",
    "val_paths = [ f'{WIDERFACE.paths[\"val\"]}/{f}' for f in WIDERFACE.file_info['val']['image_path'] ]"
   ]
  },
  {
   "cell_type": "markdown",
   "metadata": {},
   "source": [
    "### Harr Model"
   ]
  },
  {
   "cell_type": "code",
   "execution_count": 35,
   "metadata": {},
   "outputs": [
    {
     "name": "stdout",
     "output_type": "stream",
     "text": [
      "Found bounding boxes for 12880 images after 1456.94907 seconds.\n"
     ]
    }
   ],
   "source": [
    "counts, bbx = run_opencv_cascade(train_paths, haar_path)\n",
    "save_results('haar','scale: 1.1, neighbors: 3', counts, bbx)"
   ]
  },
  {
   "cell_type": "code",
   "execution_count": 27,
   "metadata": {},
   "outputs": [],
   "source": [
    "# First go: Found bounding boxes for 12880 images after 1494.7744105000002 seconds.\n",
    "# Second go: Found bounding boxes for 12880 images after 1456.94907 seconds."
   ]
  },
  {
   "cell_type": "code",
   "execution_count": 38,
   "metadata": {},
   "outputs": [
    {
     "name": "stdout",
     "output_type": "stream",
     "text": [
      "Found bounding boxes for 12880 images after 1060.9001706999998 seconds.\n"
     ]
    }
   ],
   "source": [
    "gs_counts, gs_bbx = run_opencv_cascade(train_paths, haar_path, use_grayscale = True)\n",
    "save_results('haar','grayscale, scale: 1.1, neighbors: 3', gs_counts, gs_bbx)"
   ]
  },
  {
   "cell_type": "code",
   "execution_count": null,
   "metadata": {},
   "outputs": [],
   "source": [
    "# First go: Found bounding boxes for 12880 images after 1060.9001706999998 seconds.\n",
    "# That's about 8 minutes faster. Not amazing, but helpful."
   ]
  }
 ],
 "metadata": {
  "kernelspec": {
   "display_name": "Python 3",
   "language": "python",
   "name": "python3"
  },
  "language_info": {
   "codemirror_mode": {
    "name": "ipython",
    "version": 3
   },
   "file_extension": ".py",
   "mimetype": "text/x-python",
   "name": "python",
   "nbconvert_exporter": "python",
   "pygments_lexer": "ipython3",
   "version": "3.7.4"
  }
 },
 "nbformat": 4,
 "nbformat_minor": 2
}

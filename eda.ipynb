{
 "cells": [
  {
   "cell_type": "code",
   "execution_count": 25,
   "metadata": {},
   "outputs": [],
   "source": [
    "import sqlite3\n",
    "import math"
   ]
  },
  {
   "cell_type": "code",
   "execution_count": 3,
   "metadata": {},
   "outputs": [],
   "source": [
    "db_name = 'widerface.db'\n",
    "con = sqlite3.connect(db_name)\n",
    "\n",
    "def run_query(query):\n",
    "    cur = con.cursor()\n",
    "    cur.execute(query)\n",
    "    rows = cur.fetchall()\n",
    "    cur.close()\n",
    "    con.commit()\n",
    "    return rows"
   ]
  },
  {
   "cell_type": "code",
   "execution_count": 21,
   "metadata": {},
   "outputs": [],
   "source": [
    "training_count = 'select count(*) from counts_train;'\n",
    "bbx_count = 'select count(*) from bbx_train;'\n",
    "blurred_count = 'select count(*) from bbx_train where blur > 0;'\n",
    "partial_occ_count = 'select count(*) from bbx_train where occlusion = 1;'\n",
    "full_occ_count = 'select count(*) from bbx_train where occlusion = 2;'\n",
    "expression_count = 'select count(*) from bbx_train where expression > 0;'\n",
    "pose_count = 'select count(*) from bbx_train where pose > 0;'\n",
    "invalid_count = 'select count(*) from bbx_train where invalid > 0;'\n",
    "max_area = 'select max(width * height) from bbx_train;'\n",
    "min_area = 'select min(width * height) from bbx_train where width > 0 and height > 0;'"
   ]
  },
  {
   "cell_type": "code",
   "execution_count": 22,
   "metadata": {},
   "outputs": [],
   "source": [
    "q1 = run_query(training_count)[0][0]\n",
    "q2 = run_query(bbx_count)[0][0]\n",
    "q3 = run_query(blurred_count)[0][0]\n",
    "q4 = run_query(partial_occ_count)[0][0]\n",
    "q5 = run_query(full_occ_count)[0][0]\n",
    "q6 = run_query(expression_count)[0][0]\n",
    "q7 = run_query(pose_count)[0][0]\n",
    "q8 = run_query(invalid_count)[0][0]\n",
    "q9 = run_query(max_area)[0][0]\n",
    "q10 = run_query(min_area)[0][0]"
   ]
  },
  {
   "cell_type": "code",
   "execution_count": 33,
   "metadata": {},
   "outputs": [
    {
     "name": "stdout",
     "output_type": "stream",
     "text": [
      "There are 12880 images in the training set comprising 159424 bounding boxes. This averages 12 faces per image.\n",
      "136629 (85.7%) of the faces are blurry.\n",
      "27830 of the faces are partially occluded, while 35730 exhibit heavy occlusion.\n",
      "1845 (1.16%) faces have an unusual expression.\n",
      "6042 are arranged in an atypical pose.\n",
      "2399 bounding boxes are \"invalid\", where it would be impossible to detect the face.\n",
      "The minimum area for a bounding box greater than 0 is 2, while the maximum is 1096939 (in square pixels).\n"
     ]
    }
   ],
   "source": [
    "print(f'''There are {q1} images in the training set comprising {q2} bounding boxes. This averages {math.floor(q2 / q1)} faces per image.\n",
    "{q3} ({round(q3/q2 * 100, 2)}%) of the faces are blurry.\n",
    "{q4} of the faces are partially occluded, while {q5} exhibit heavy occlusion.\n",
    "{q6} ({round(q6/q2 * 100, 2)}%) faces have an unusual expression.\n",
    "{q7} are arranged in an atypical pose.\n",
    "{q8} bounding boxes are \"invalid\", where it would be impossible to detect the face.\n",
    "The minimum area for a bounding box greater than 0 is {q10}, while the maximum is {q9} (in square pixels).''')"
   ]
  },
  {
   "cell_type": "code",
   "execution_count": null,
   "metadata": {},
   "outputs": [],
   "source": []
  }
 ],
 "metadata": {
  "kernelspec": {
   "display_name": "Python 3",
   "language": "python",
   "name": "python3"
  },
  "language_info": {
   "codemirror_mode": {
    "name": "ipython",
    "version": 3
   },
   "file_extension": ".py",
   "mimetype": "text/x-python",
   "name": "python",
   "nbconvert_exporter": "python",
   "pygments_lexer": "ipython3",
   "version": "3.7.4"
  }
 },
 "nbformat": 4,
 "nbformat_minor": 2
}
